{
 "cells": [
  {
   "cell_type": "code",
   "execution_count": 2,
   "metadata": {
    "collapsed": true
   },
   "outputs": [],
   "source": [
    "import numpy as np\n",
    "import pandas as pd\n",
    "from scipy import stats\n",
    "import os"
   ]
  },
  {
   "cell_type": "code",
   "execution_count": 3,
   "metadata": {
    "collapsed": false
   },
   "outputs": [],
   "source": [
    "os.chdir('/Users/Sriram/Desktop/DePaul/Work - LIDC (Smart CAD)')"
   ]
  },
  {
   "cell_type": "code",
   "execution_count": 6,
   "metadata": {
    "collapsed": false
   },
   "outputs": [],
   "source": [
    "data = np.loadtxt('./MalignancyVals.csv', delimiter=',', skiprows=1, dtype='int64')"
   ]
  },
  {
   "cell_type": "code",
   "execution_count": 7,
   "metadata": {
    "collapsed": false
   },
   "outputs": [],
   "source": [
    "#Choosing a single label based on mode, in case of tie, choose the first occurence\n",
    "newLabels = np.zeros(shape=[data.shape[0]])\n",
    "for i in range(data.shape[0]):\n",
    "    bins = np.bincount(data[i,:])\n",
    "    newLabels[i] = np.argmax(bins)"
   ]
  },
  {
   "cell_type": "code",
   "execution_count": 12,
   "metadata": {
    "collapsed": false
   },
   "outputs": [],
   "source": [
    "#S Matrix and D Matrix\n",
    "S = np.zeros(shape=[newLabels.shape[0],newLabels.shape[0]])\n",
    "D = np.ones(shape=[newLabels.shape[0],newLabels.shape[0]])\n",
    "for i in range(len(newLabels)):\n",
    "    for j in range(i,len(newLabels)):\n",
    "        if newLabels[i] == newLabels[j]:\n",
    "            S[i,j] = 1\n",
    "            D[i,j] = 0"
   ]
  },
  {
   "cell_type": "code",
   "execution_count": 16,
   "metadata": {
    "collapsed": false
   },
   "outputs": [],
   "source": [
    "S = pd.DataFrame(S); D = pd.DataFrame(D)\n",
    "S.to_csv('./SMatrix'); D.to_csv('./DMatrix')"
   ]
  },
  {
   "cell_type": "code",
   "execution_count": null,
   "metadata": {
    "collapsed": true
   },
   "outputs": [],
   "source": []
  }
 ],
 "metadata": {
  "kernelspec": {
   "display_name": "Python 3",
   "language": "python",
   "name": "python3"
  },
  "language_info": {
   "codemirror_mode": {
    "name": "ipython",
    "version": 3
   },
   "file_extension": ".py",
   "mimetype": "text/x-python",
   "name": "python",
   "nbconvert_exporter": "python",
   "pygments_lexer": "ipython3",
   "version": "3.5.1"
  }
 },
 "nbformat": 4,
 "nbformat_minor": 0
}
