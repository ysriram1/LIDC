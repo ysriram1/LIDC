{
 "cells": [
  {
   "cell_type": "code",
   "execution_count": 1,
   "metadata": {
    "collapsed": true
   },
   "outputs": [],
   "source": [
    "import numpy as np\n",
    "import pandas as pd\n",
    "from scipy import stats\n",
    "import os"
   ]
  },
  {
   "cell_type": "code",
   "execution_count": 3,
   "metadata": {
    "collapsed": false
   },
   "outputs": [],
   "source": [
    "os.chdir('/Users/Sriram/Desktop/DePaul/Work - LIDC (Smart CAD)/LIDC')"
   ]
  },
  {
   "cell_type": "code",
   "execution_count": 8,
   "metadata": {
    "collapsed": false
   },
   "outputs": [],
   "source": [
    "data = np.loadtxt('./labels.txt', delimiter='\\t', skiprows=1, dtype='int64')"
   ]
  },
  {
   "cell_type": "code",
   "execution_count": 7,
   "metadata": {
    "collapsed": false
   },
   "outputs": [],
   "source": [
    "#Choosing a single label based on mode, in case of tie, choose the first occurence\n",
    "newLabels = np.zeros(shape=[data.shape[0]])\n",
    "for i in range(data.shape[0]):\n",
    "    bins = np.bincount(data[i,:])\n",
    "    newLabels[i] = np.argmax(bins)"
   ]
  },
  {
   "cell_type": "code",
   "execution_count": 15,
   "metadata": {
    "collapsed": false
   },
   "outputs": [],
   "source": [
    "df = pd.read_csv('./LIDC_REU2015.csv', index_col=0)\n",
    "df_sub = df.iloc[:,10:75]"
   ]
  },
  {
   "cell_type": "code",
   "execution_count": 16,
   "metadata": {
    "collapsed": false
   },
   "outputs": [],
   "source": [
    "minmax = lambda x: (x-x.min())/(x.max()-x.min())\n",
    "df_norm = df_sub.apply(minmax, 0)"
   ]
  },
  {
   "cell_type": "code",
   "execution_count": 17,
   "metadata": {
    "collapsed": false
   },
   "outputs": [],
   "source": [
    "df_norm.to_csv(\"./LIDCfeatureData.csv\", header=False, index=False)"
   ]
  },
  {
   "cell_type": "code",
   "execution_count": 18,
   "metadata": {
    "collapsed": true
   },
   "outputs": [],
   "source": [
    "newLabels = pd.DataFrame(data)\n",
    "newLabels.to_csv('./LIDCLabels.csv', header=False, index=False)"
   ]
  },
  {
   "cell_type": "code",
   "execution_count": 19,
   "metadata": {
    "collapsed": false
   },
   "outputs": [],
   "source": [
    "from sklearn.cross_validation import train_test_split"
   ]
  },
  {
   "cell_type": "code",
   "execution_count": 20,
   "metadata": {
    "collapsed": false
   },
   "outputs": [],
   "source": [
    "train, test, train_Labels, test_Labels = train_test_split(df_norm, newLabels, test_size = 0.33)\n",
    "train.to_csv(\"./LIDCtrain.csv\", header=False, index=False)\n",
    "test.to_csv(\"./LIDCtest.csv\", header=False, index=False)\n",
    "train_Labels.to_csv(\"./LIDCtrianLabels.csv\", header=False, index=False)\n",
    "test_Labels.to_csv(\"./LIDCtestLabels.csv\", header=False, index=False)"
   ]
  },
  {
   "cell_type": "code",
   "execution_count": 21,
   "metadata": {
    "collapsed": false
   },
   "outputs": [],
   "source": [
    "def SDMat(trainlabels = train_Labels):\n",
    "    labels = train_Labels.values.flatten()\n",
    "    global S; global D\n",
    "    S = np.zeros(shape=[labels.shape[0],labels.shape[0]])\n",
    "    D = np.ones(shape=[labels.shape[0],labels.shape[0]])\n",
    "    for i in range(len(labels)):\n",
    "        for j in range(i,len(labels)):\n",
    "            if labels[i] == labels[j]:\n",
    "                S[i,j] = 1; S[j,i] = 1\n",
    "                D[i,j] = 0; D[j,i] = 0\n",
    "    S = pd.DataFrame(S); D = pd.DataFrame(D)"
   ]
  },
  {
   "cell_type": "code",
   "execution_count": 22,
   "metadata": {
    "collapsed": false
   },
   "outputs": [],
   "source": [
    "SDMat()\n",
    "S.to_csv('./LIDCSMatrix.csv', header=False, index=False); D.to_csv('./LIDCDMatrix.csv', header=False, index=False)"
   ]
  },
  {
   "cell_type": "code",
   "execution_count": 24,
   "metadata": {
    "collapsed": false
   },
   "outputs": [
    {
     "name": "stderr",
     "output_type": "stream",
     "text": [
      "//anaconda/lib/python3.5/site-packages/ipykernel/__main__.py:6: DataConversionWarning: A column-vector y was passed when a 1d array was expected. Please change the shape of y to (n_samples, ), for example using ravel().\n"
     ]
    }
   ],
   "source": [
    "from sklearn import neighbors\n",
    "\n",
    "predLabels5 = np.loadtxt('./5nn.csv', delimiter=',')\n",
    "nn = 5\n",
    "kNN_nW = neighbors.KNeighborsClassifier(n_neighbors=nn)\n",
    "kNN_nW.fit(train, train_Labels)\n",
    "predictions5 = kNN_nW.predict(test)"
   ]
  },
  {
   "cell_type": "code",
   "execution_count": 25,
   "metadata": {
    "collapsed": false
   },
   "outputs": [
    {
     "data": {
      "text/plain": [
       "array([2, 2, 5, 2, 3, 2, 3, 2, 3, 3, 5, 3, 4, 3, 5, 5, 3, 4, 1, 3, 3, 2, 3,\n",
       "       2, 2, 1, 5, 3, 1, 3, 1, 3, 3, 3, 1, 3, 3, 3, 3, 2, 1, 3, 4, 3, 3, 1,\n",
       "       3, 1, 4, 1, 2, 4, 3, 3, 4, 3, 5, 2, 3, 5, 3, 3, 3, 1, 5, 3, 4, 5, 2,\n",
       "       3, 5, 3, 4, 2, 2, 4, 3, 2, 1, 3, 3, 1, 4, 3, 4, 1, 3, 2, 3, 1, 3, 4,\n",
       "       2, 1, 5, 2, 3, 3, 2, 3, 1, 1, 5, 1, 5, 3, 3, 1, 3, 3, 5, 4, 4, 3, 4,\n",
       "       3, 5, 1, 2, 4, 3, 4, 3, 2, 2, 3, 4, 4, 3, 3, 1, 3, 4, 1, 2, 4, 3, 2,\n",
       "       3, 3, 3, 1, 3, 2, 3, 1, 3, 5, 3, 1, 2, 4, 3, 4, 5, 3, 3, 2, 3, 2, 2,\n",
       "       3, 3, 2, 2, 4, 1, 1, 4, 3, 5, 3, 3, 5, 5, 2, 3, 3, 4, 3, 2, 3, 3, 4,\n",
       "       2, 3, 3, 4, 5, 2, 4, 4, 5, 4, 2, 2, 1, 3, 4, 5, 3, 5, 3, 3, 3, 3, 4,\n",
       "       5, 2, 3, 1, 2, 3, 3, 3, 3, 2, 2, 1, 3, 3, 3, 1, 4, 5, 3, 3, 3, 4, 3,\n",
       "       1, 4, 3, 3, 2, 2, 3, 2, 3, 3, 2, 2, 1, 1, 1, 3, 5, 4, 3, 3, 2, 5, 4,\n",
       "       3, 3, 4, 3, 4, 4, 2, 2, 3, 2, 1, 3, 3, 3])"
      ]
     },
     "execution_count": 25,
     "metadata": {},
     "output_type": "execute_result"
    }
   ],
   "source": [
    "test_Labels.values.flatten()"
   ]
  },
  {
   "cell_type": "code",
   "execution_count": 36,
   "metadata": {
    "collapsed": false
   },
   "outputs": [
    {
     "name": "stderr",
     "output_type": "stream",
     "text": [
      "//anaconda/lib/python3.5/site-packages/ipykernel/__main__.py:4: DataConversionWarning: A column-vector y was passed when a 1d array was expected. Please change the shape of y to (n_samples, ), for example using ravel().\n"
     ]
    }
   ],
   "source": [
    "nn = 5\n",
    "\n",
    "kNN_nW = neighbors.KNeighborsClassifier(n_neighbors=nn)\n",
    "kNN_nW.fit(train, train_Labels)\n",
    "predictions5 = kNN_nW.predict(test)"
   ]
  },
  {
   "cell_type": "code",
   "execution_count": 38,
   "metadata": {
    "collapsed": false
   },
   "outputs": [
    {
     "data": {
      "text/plain": [
       "0.29213483146067415"
      ]
     },
     "execution_count": 38,
     "metadata": {},
     "output_type": "execute_result"
    }
   ],
   "source": [
    "sum(predictions5.flatten() == test_Labels.values.flatten())/len(predictions5)"
   ]
  },
  {
   "cell_type": "code",
   "execution_count": 41,
   "metadata": {
    "collapsed": false
   },
   "outputs": [
    {
     "data": {
      "text/plain": [
       "0.27715355805243447"
      ]
     },
     "execution_count": 41,
     "metadata": {},
     "output_type": "execute_result"
    }
   ],
   "source": [
    "sum(predLabels5.flatten() == test_Labels.values.flatten())/len(predLabels5)"
   ]
  },
  {
   "cell_type": "code",
   "execution_count": 182,
   "metadata": {
    "collapsed": false
   },
   "outputs": [
    {
     "name": "stderr",
     "output_type": "stream",
     "text": [
      "//anaconda/lib/python3.5/site-packages/ipykernel/__main__.py:5: DataConversionWarning: A column-vector y was passed when a 1d array was expected. Please change the shape of y to (n_samples, ), for example using ravel().\n"
     ]
    }
   ],
   "source": [
    "predLabels3 = np.loadtxt('./predLabels3.csv', delimiter=','); predLabels.shape\n",
    "nn = 3\n",
    "\n",
    "kNN_nW = neighbors.KNeighborsClassifier(n_neighbors=nn)\n",
    "kNN_nW.fit(train, train_Labels)\n",
    "predictions3 = kNN_nW.predict(test)"
   ]
  },
  {
   "cell_type": "code",
   "execution_count": 177,
   "metadata": {
    "collapsed": false
   },
   "outputs": [
    {
     "data": {
      "text/plain": [
       "0.43445692883895132"
      ]
     },
     "execution_count": 177,
     "metadata": {},
     "output_type": "execute_result"
    }
   ],
   "source": [
    "sum(predictions3.flatten() == test_Labels.flatten())/len(predLabels)"
   ]
  },
  {
   "cell_type": "code",
   "execution_count": 184,
   "metadata": {
    "collapsed": false
   },
   "outputs": [
    {
     "data": {
      "text/plain": [
       "0.43820224719101125"
      ]
     },
     "execution_count": 184,
     "metadata": {},
     "output_type": "execute_result"
    }
   ],
   "source": [
    "sum(predLabels3.flatten() == test_Labels.flatten())/len(predLabels)"
   ]
  },
  {
   "cell_type": "code",
   "execution_count": 188,
   "metadata": {
    "collapsed": false
   },
   "outputs": [
    {
     "name": "stderr",
     "output_type": "stream",
     "text": [
      "//anaconda/lib/python3.5/site-packages/ipykernel/__main__.py:5: DataConversionWarning: A column-vector y was passed when a 1d array was expected. Please change the shape of y to (n_samples, ), for example using ravel().\n"
     ]
    }
   ],
   "source": [
    "predLabels7 = np.loadtxt('./predLabels7.csv', delimiter=','); predLabels.shape\n",
    "nn = 7\n",
    "\n",
    "kNN_nW = neighbors.KNeighborsClassifier(n_neighbors=nn)\n",
    "kNN_nW.fit(train, train_Labels)\n",
    "predictions7 = kNN_nW.predict(test)"
   ]
  },
  {
   "cell_type": "code",
   "execution_count": 190,
   "metadata": {
    "collapsed": false
   },
   "outputs": [
    {
     "data": {
      "text/plain": [
       "0.50187265917602997"
      ]
     },
     "execution_count": 190,
     "metadata": {},
     "output_type": "execute_result"
    }
   ],
   "source": [
    "sum(predictions7.flatten() == test_Labels.flatten())/len(predLabels)"
   ]
  },
  {
   "cell_type": "code",
   "execution_count": 189,
   "metadata": {
    "collapsed": false
   },
   "outputs": [
    {
     "data": {
      "text/plain": [
       "0.4943820224719101"
      ]
     },
     "execution_count": 189,
     "metadata": {},
     "output_type": "execute_result"
    }
   ],
   "source": [
    "sum(predLabels7.flatten() == test_Labels.flatten())/len(predLabels)"
   ]
  },
  {
   "cell_type": "code",
   "execution_count": null,
   "metadata": {
    "collapsed": true
   },
   "outputs": [],
   "source": []
  },
  {
   "cell_type": "code",
   "execution_count": null,
   "metadata": {
    "collapsed": true
   },
   "outputs": [],
   "source": []
  },
  {
   "cell_type": "code",
   "execution_count": null,
   "metadata": {
    "collapsed": true
   },
   "outputs": [],
   "source": []
  },
  {
   "cell_type": "code",
   "execution_count": null,
   "metadata": {
    "collapsed": true
   },
   "outputs": [],
   "source": []
  },
  {
   "cell_type": "code",
   "execution_count": 220,
   "metadata": {
    "collapsed": false
   },
   "outputs": [
    {
     "name": "stderr",
     "output_type": "stream",
     "text": [
      "//anaconda/lib/python3.5/site-packages/ipykernel/__main__.py:5: DataConversionWarning: A column-vector y was passed when a 1d array was expected. Please change the shape of y to (n_samples, ), for example using ravel().\n"
     ]
    }
   ],
   "source": [
    "predLabels3 = np.loadtxt('./predLabelsAll3.csv', delimiter=','); predLabels.shape\n",
    "nn = 3\n",
    "\n",
    "kNN_nW = neighbors.KNeighborsClassifier(n_neighbors=nn)\n",
    "kNN_nW.fit(train, train_Labels)\n",
    "predictions3 = kNN_nW.predict(test)"
   ]
  },
  {
   "cell_type": "code",
   "execution_count": 217,
   "metadata": {
    "collapsed": false
   },
   "outputs": [
    {
     "data": {
      "text/plain": [
       "0.4044943820224719"
      ]
     },
     "execution_count": 217,
     "metadata": {},
     "output_type": "execute_result"
    }
   ],
   "source": [
    "sum(predictions3 == test_Labels.values.flatten())/len(predLabels3)"
   ]
  },
  {
   "cell_type": "code",
   "execution_count": 221,
   "metadata": {
    "collapsed": false
   },
   "outputs": [
    {
     "data": {
      "text/plain": [
       "0.38951310861423222"
      ]
     },
     "execution_count": 221,
     "metadata": {},
     "output_type": "execute_result"
    }
   ],
   "source": [
    "sum(predLabels3 == test_Labels.values.flatten())/len(predLabels3)"
   ]
  },
  {
   "cell_type": "code",
   "execution_count": 222,
   "metadata": {
    "collapsed": false
   },
   "outputs": [
    {
     "name": "stderr",
     "output_type": "stream",
     "text": [
      "//anaconda/lib/python3.5/site-packages/ipykernel/__main__.py:5: DataConversionWarning: A column-vector y was passed when a 1d array was expected. Please change the shape of y to (n_samples, ), for example using ravel().\n"
     ]
    }
   ],
   "source": [
    "predLabels5 = np.loadtxt('./predLabelsAll5.csv', delimiter=','); predLabels.shape\n",
    "nn = 5\n",
    "\n",
    "kNN_nW = neighbors.KNeighborsClassifier(n_neighbors=nn)\n",
    "kNN_nW.fit(train, train_Labels)\n",
    "predictions3 = kNN_nW.predict(test)"
   ]
  },
  {
   "cell_type": "code",
   "execution_count": 223,
   "metadata": {
    "collapsed": false
   },
   "outputs": [
    {
     "data": {
      "text/plain": [
       "0.43445692883895132"
      ]
     },
     "execution_count": 223,
     "metadata": {},
     "output_type": "execute_result"
    }
   ],
   "source": [
    "sum(predictions5 == test_Labels.values.flatten())/len(predLabels5)"
   ]
  },
  {
   "cell_type": "code",
   "execution_count": 226,
   "metadata": {
    "collapsed": false
   },
   "outputs": [
    {
     "data": {
      "text/plain": [
       "0.44569288389513106"
      ]
     },
     "execution_count": 226,
     "metadata": {},
     "output_type": "execute_result"
    }
   ],
   "source": [
    "sum(predLabels5 == test_Labels.values.flatten())/len(predLabels5)"
   ]
  },
  {
   "cell_type": "code",
   "execution_count": 231,
   "metadata": {
    "collapsed": false
   },
   "outputs": [
    {
     "name": "stderr",
     "output_type": "stream",
     "text": [
      "//anaconda/lib/python3.5/site-packages/ipykernel/__main__.py:5: DataConversionWarning: A column-vector y was passed when a 1d array was expected. Please change the shape of y to (n_samples, ), for example using ravel().\n"
     ]
    }
   ],
   "source": [
    "predLabels7 = np.loadtxt('./predLabelsAll7.csv', delimiter=','); predLabels.shape\n",
    "nn = 7\n",
    "\n",
    "kNN_nW = neighbors.KNeighborsClassifier(n_neighbors=nn)\n",
    "kNN_nW.fit(train, train_Labels)\n",
    "predictions7 = kNN_nW.predict(test)"
   ]
  },
  {
   "cell_type": "code",
   "execution_count": 229,
   "metadata": {
    "collapsed": false
   },
   "outputs": [
    {
     "data": {
      "text/plain": [
       "0.49063670411985016"
      ]
     },
     "execution_count": 229,
     "metadata": {},
     "output_type": "execute_result"
    }
   ],
   "source": [
    "sum(predictions7 == test_Labels.values.flatten())/len(predLabels5)"
   ]
  },
  {
   "cell_type": "code",
   "execution_count": 232,
   "metadata": {
    "collapsed": false
   },
   "outputs": [
    {
     "data": {
      "text/plain": [
       "0.47565543071161048"
      ]
     },
     "execution_count": 232,
     "metadata": {},
     "output_type": "execute_result"
    }
   ],
   "source": [
    "sum(predLabels7 == test_Labels.values.flatten())/len(predLabels7)"
   ]
  },
  {
   "cell_type": "code",
   "execution_count": null,
   "metadata": {
    "collapsed": true
   },
   "outputs": [],
   "source": []
  }
 ],
 "metadata": {
  "kernelspec": {
   "display_name": "Python 3",
   "language": "python",
   "name": "python3"
  },
  "language_info": {
   "codemirror_mode": {
    "name": "ipython",
    "version": 3
   },
   "file_extension": ".py",
   "mimetype": "text/x-python",
   "name": "python",
   "nbconvert_exporter": "python",
   "pygments_lexer": "ipython3",
   "version": "3.5.1"
  }
 },
 "nbformat": 4,
 "nbformat_minor": 0
}
