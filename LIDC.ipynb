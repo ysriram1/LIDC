{
 "cells": [
  {
   "cell_type": "code",
   "execution_count": 2,
   "metadata": {
    "collapsed": true
   },
   "outputs": [],
   "source": [
    "import numpy as np\n",
    "import pandas as pd\n",
    "from scipy import stats\n",
    "import os"
   ]
  },
  {
   "cell_type": "code",
   "execution_count": 3,
   "metadata": {
    "collapsed": false
   },
   "outputs": [],
   "source": [
    "os.chdir('/Users/Sriram/Desktop/DePaul/Work - LIDC (Smart CAD)')"
   ]
  },
  {
   "cell_type": "code",
   "execution_count": 6,
   "metadata": {
    "collapsed": false
   },
   "outputs": [],
   "source": [
    "data = np.loadtxt('./MalignancyVals.csv', delimiter=',', skiprows=1, dtype='int64')"
   ]
  },
  {
   "cell_type": "code",
   "execution_count": 7,
   "metadata": {
    "collapsed": false
   },
   "outputs": [],
   "source": [
    "#Choosing a single label based on mode, in case of tie, choose the first occurence\n",
    "newLabels = np.zeros(shape=[data.shape[0]])\n",
    "for i in range(data.shape[0]):\n",
    "    bins = np.bincount(data[i,:])\n",
    "    newLabels[i] = np.argmax(bins)"
   ]
  },
  {
   "cell_type": "code",
   "execution_count": 58,
   "metadata": {
    "collapsed": false
   },
   "outputs": [],
   "source": [
    "df = pd.read_csv('./LIDC_REU2015.csv', index_col=0)\n",
    "df_sub = df.iloc[:,10:35]"
   ]
  },
  {
   "cell_type": "code",
   "execution_count": 62,
   "metadata": {
    "collapsed": false
   },
   "outputs": [],
   "source": [
    "minmax = lambda x: (x-x.min())/(x.max()-x.min())\n",
    "df_norm = df_sub.apply(minmax, 0)"
   ]
  },
  {
   "cell_type": "code",
   "execution_count": 71,
   "metadata": {
    "collapsed": false
   },
   "outputs": [],
   "source": [
    "df_norm.to_csv(\"./LIDCfeatureData.csv\", header=False, index=False)"
   ]
  },
  {
   "cell_type": "code",
   "execution_count": 75,
   "metadata": {
    "collapsed": true
   },
   "outputs": [],
   "source": [
    "newLabels = pd.DataFrame(newLabels)\n",
    "newLabels.to_csv('./LIDCLabels.csv', header=False, index=False)"
   ]
  },
  {
   "cell_type": "code",
   "execution_count": 76,
   "metadata": {
    "collapsed": false
   },
   "outputs": [],
   "source": [
    "from sklearn.cross_validation import train_test_split"
   ]
  },
  {
   "cell_type": "code",
   "execution_count": 131,
   "metadata": {
    "collapsed": false
   },
   "outputs": [],
   "source": [
    "train, test, train_Labels, test_Labels = train_test_split(df_norm, newLabels, test_size = 0.33)\n",
    "train.to_csv(\"./LIDCtrain.csv\", header=False, index=False)\n",
    "test.to_csv(\"./LIDCtest.csv\", header=False, index=False)\n",
    "train_Labels.to_csv(\"./LIDCtrianLabels.csv\", header=False, index=False)\n",
    "test_Labels.to_csv(\"./LIDCtestLabels.csv\", header=False, index=False)"
   ]
  },
  {
   "cell_type": "code",
   "execution_count": 123,
   "metadata": {
    "collapsed": false
   },
   "outputs": [],
   "source": [
    "def SDMat(trainlabels = train_Labels):\n",
    "    labels = train_Labels.values.flatten()\n",
    "    global S; global D\n",
    "    S = np.zeros(shape=[labels.shape[0],labels.shape[0]])\n",
    "    D = np.ones(shape=[labels.shape[0],labels.shape[0]])\n",
    "    for i in range(len(labels)):\n",
    "        for j in range(i,len(labels)):\n",
    "            if labels[i] == labels[j]:\n",
    "                S[i,j] = 1; S[j,i] = 1\n",
    "                D[i,j] = 0; D[j,i] = 0\n",
    "    S = pd.DataFrame(S); D = pd.DataFrame(D)"
   ]
  },
  {
   "cell_type": "code",
   "execution_count": 124,
   "metadata": {
    "collapsed": false
   },
   "outputs": [],
   "source": [
    "SDMat()\n",
    "S.to_csv('./LIDCSMatrix.csv', header=False, index=False); D.to_csv('./LIDCDMatrix.csv', header=False, index=False)"
   ]
  },
  {
   "cell_type": "code",
   "execution_count": 135,
   "metadata": {
    "collapsed": false
   },
   "outputs": [
    {
     "data": {
      "text/plain": [
       "array([ 2.,  3.,  5.,  3.,  3.,  3.,  2.,  2.,  4.,  5.,  3.,  3.,  2.,\n",
       "        1.,  1.,  3.,  1.,  2.,  3.,  1.,  2.,  2.,  1.,  4.,  4.,  2.,\n",
       "        3.,  2.,  3.,  2.,  1.,  3.,  2.,  3.,  5.,  2.,  2.,  3.,  2.,\n",
       "        3.,  2.,  3.,  4.,  1.,  4.,  2.,  4.,  3.,  3.,  2.,  3.,  3.,\n",
       "        4.,  3.,  1.,  5.,  3.,  1.,  1.,  2.,  3.,  3.,  2.,  3.,  2.,\n",
       "        3.,  5.,  3.,  3.,  5.,  1.,  3.,  2.,  3.,  4.,  3.,  1.,  1.,\n",
       "        5.,  1.,  3.,  2.,  2.,  5.,  4.,  3.,  4.,  1.,  3.,  3.,  5.,\n",
       "        5.,  3.,  3.,  2.,  1.,  1.,  3.,  2.,  1.,  4.,  3.,  3.,  3.,\n",
       "        4.,  2.,  4.,  5.,  2.,  2.,  2.,  2.,  3.,  2.,  5.,  5.,  5.,\n",
       "        3.,  4.,  3.,  2.,  4.,  3.,  3.,  1.,  1.,  1.,  2.,  3.,  4.,\n",
       "        3.,  3.,  3.,  2.,  3.,  2.,  3.,  2.,  3.,  3.,  2.,  2.,  2.,\n",
       "        5.,  3.,  5.,  2.,  3.,  3.,  5.,  3.,  2.,  2.,  2.,  4.,  3.,\n",
       "        3.,  2.,  2.,  5.,  5.,  3.,  3.,  2.,  5.,  2.,  2.,  1.,  3.,\n",
       "        1.,  3.,  3.,  4.,  2.,  2.,  3.,  1.,  3.,  2.,  4.,  4.,  5.,\n",
       "        4.,  2.,  3.,  4.,  3.,  3.,  1.,  4.,  2.,  2.,  1.,  3.,  2.,\n",
       "        2.,  2.,  3.,  3.,  4.,  3.,  5.,  1.,  3.,  2.,  5.,  1.,  2.,\n",
       "        2.,  3.,  2.,  2.,  3.,  4.,  3.,  4.,  4.,  2.,  3.,  2.,  2.,\n",
       "        5.,  2.,  3.,  2.,  5.,  1.,  1.,  2.,  2.,  3.,  4.,  4.,  3.,\n",
       "        3.,  2.,  3.,  3.,  5.,  4.,  2.,  1.,  2.,  4.,  1.,  3.,  2.,\n",
       "        3.,  3.,  2.,  2.,  3.,  3.,  5.,  2.,  2.,  3.,  1.,  5.,  1.,\n",
       "        1.,  3.,  4.,  3.,  3.,  1.,  5.])"
      ]
     },
     "execution_count": 135,
     "metadata": {},
     "output_type": "execute_result"
    }
   ],
   "source": [
    "predLabels = np.loadtxt('./LIDCpredLabels.csv', delimiter=','); predLabels"
   ]
  },
  {
   "cell_type": "code",
   "execution_count": 142,
   "metadata": {
    "collapsed": false
   },
   "outputs": [
    {
     "ename": "AttributeError",
     "evalue": "'numpy.ndarray' object has no attribute 'values'",
     "output_type": "error",
     "traceback": [
      "\u001b[0;31m---------------------------------------------------------------------------\u001b[0m",
      "\u001b[0;31mAttributeError\u001b[0m                            Traceback (most recent call last)",
      "\u001b[0;32m<ipython-input-142-3ae3b320e2a2>\u001b[0m in \u001b[0;36m<module>\u001b[0;34m()\u001b[0m\n\u001b[0;32m----> 1\u001b[0;31m \u001b[0mtest_Labels\u001b[0m \u001b[0;34m=\u001b[0m \u001b[0mtest_Labels\u001b[0m\u001b[0;34m.\u001b[0m\u001b[0mvalues\u001b[0m\u001b[0;34m.\u001b[0m\u001b[0mflatten\u001b[0m\u001b[0;34m(\u001b[0m\u001b[0;34m)\u001b[0m\u001b[0;34m\u001b[0m\u001b[0m\n\u001b[0m",
      "\u001b[0;31mAttributeError\u001b[0m: 'numpy.ndarray' object has no attribute 'values'"
     ]
    }
   ],
   "source": [
    "test_Labels = test_Labels.values.flatten()"
   ]
  },
  {
   "cell_type": "code",
   "execution_count": null,
   "metadata": {
    "collapsed": true
   },
   "outputs": [],
   "source": []
  }
 ],
 "metadata": {
  "kernelspec": {
   "display_name": "Python 3",
   "language": "python",
   "name": "python3"
  },
  "language_info": {
   "codemirror_mode": {
    "name": "ipython",
    "version": 3
   },
   "file_extension": ".py",
   "mimetype": "text/x-python",
   "name": "python",
   "nbconvert_exporter": "python",
   "pygments_lexer": "ipython3",
   "version": "3.5.1"
  }
 },
 "nbformat": 4,
 "nbformat_minor": 0
}
