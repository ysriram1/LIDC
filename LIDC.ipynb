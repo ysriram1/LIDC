{
 "cells": [
  {
   "cell_type": "code",
   "execution_count": 2,
   "metadata": {
    "collapsed": true
   },
   "outputs": [],
   "source": [
    "import numpy as np\n",
    "import pandas as pd\n",
    "from scipy import stats\n",
    "import os"
   ]
  },
  {
   "cell_type": "code",
   "execution_count": 3,
   "metadata": {
    "collapsed": false
   },
   "outputs": [],
   "source": [
    "os.chdir('/Users/Sriram/Desktop/DePaul/Work - LIDC (Smart CAD)')"
   ]
  },
  {
   "cell_type": "code",
   "execution_count": 6,
   "metadata": {
    "collapsed": false
   },
   "outputs": [],
   "source": [
    "data = np.loadtxt('./MalignancyVals.csv', delimiter=',', skiprows=1, dtype='int64')"
   ]
  },
  {
   "cell_type": "code",
   "execution_count": 7,
   "metadata": {
    "collapsed": false
   },
   "outputs": [],
   "source": [
    "#Choosing a single label based on mode, in case of tie, choose the first occurence\n",
    "newLabels = np.zeros(shape=[data.shape[0]])\n",
    "for i in range(data.shape[0]):\n",
    "    bins = np.bincount(data[i,:])\n",
    "    newLabels[i] = np.argmax(bins)"
   ]
  },
  {
   "cell_type": "code",
   "execution_count": 12,
   "metadata": {
    "collapsed": false
   },
   "outputs": [],
   "source": [
    "#S Matrix and D Matrix\n",
    "S = np.zeros(shape=[newLabels.shape[0],newLabels.shape[0]])\n",
    "D = np.ones(shape=[newLabels.shape[0],newLabels.shape[0]])\n",
    "for i in range(len(newLabels)):\n",
    "    for j in range(i,len(newLabels)):\n",
    "        if newLabels[i] == newLabels[j]:\n",
    "            S[i,j] = 1\n",
    "            D[i,j] = 0"
   ]
  },
  {
   "cell_type": "code",
   "execution_count": 16,
   "metadata": {
    "collapsed": false
   },
   "outputs": [],
   "source": [
    "S = pd.DataFrame(S); D = pd.DataFrame(D)\n",
    "S.to_csv('./SMatrix'); D.to_csv('./DMatrix')"
   ]
  },
  {
   "cell_type": "code",
   "execution_count": 30,
   "metadata": {
    "collapsed": false
   },
   "outputs": [],
   "source": [
    "df = pd.read_csv('./LIDC_REU2015.csv', index_col=0)\n",
    "df.iloc[:,]"
   ]
  },
  {
   "cell_type": "code",
   "execution_count": 49,
   "metadata": {
    "collapsed": false
   },
   "outputs": [
    {
     "data": {
      "text/plain": [
       "['StudyInstanceUID',\n",
       " 'SeriesInstanceUid',\n",
       " 'RadiologistID',\n",
       " 'noduleID',\n",
       " 'FilePath',\n",
       " 'imageZposition',\n",
       " 'imageSOP_UID',\n",
       " 'coords',\n",
       " 'PixelSpacing',\n",
       " 'PixelArea',\n",
       " 'Area',\n",
       " 'ConvexArea',\n",
       " 'Perimeter',\n",
       " 'ConvexPerimeter',\n",
       " 'EquivDiameter',\n",
       " 'MajorAxisLength',\n",
       " 'MinorAxisLength',\n",
       " 'Elongation',\n",
       " 'Compactness',\n",
       " 'Eccentricity',\n",
       " 'Solidity',\n",
       " 'Extent',\n",
       " 'Circularity',\n",
       " 'RadialDistanceSD',\n",
       " 'SecondMoment',\n",
       " 'Roughness',\n",
       " 'MinIntensity',\n",
       " 'MaxIntensity',\n",
       " 'MeanIntensity',\n",
       " 'SDIntensity',\n",
       " 'MinIntensityBG',\n",
       " 'MaxIntensityBG',\n",
       " 'MeanIntensityBG',\n",
       " 'SDIntensityBG',\n",
       " 'IntensityDifference',\n",
       " 'markov1',\n",
       " 'markov2',\n",
       " 'markov3',\n",
       " 'markov4',\n",
       " 'markov5',\n",
       " 'gabormean_0_0',\n",
       " 'gaborSD_0_0',\n",
       " 'gabormean_0_1',\n",
       " 'gaborSD_0_1',\n",
       " 'gabormean_0_2',\n",
       " 'gaborSD_0_2',\n",
       " 'gabormean_1_0',\n",
       " 'gaborSD_1_0',\n",
       " 'gabormean_1_1',\n",
       " 'gaborSD_1_1',\n",
       " 'gabormean_1_2',\n",
       " 'gaborSD_1_2',\n",
       " 'gabormean_2_0',\n",
       " 'gaborSD_2_0',\n",
       " 'gabormean_2_1',\n",
       " 'gaborSD_2_1',\n",
       " 'gabormean_2_2',\n",
       " 'gaborSD_2_2',\n",
       " 'gabormean_3_0',\n",
       " 'gaborSD_3_0',\n",
       " 'gabormean_3_1',\n",
       " 'gaborSD_3_1',\n",
       " 'gabormean_3_2',\n",
       " 'gaborSD_3_2',\n",
       " 'Contrast',\n",
       " 'Correlation',\n",
       " 'Energy',\n",
       " 'Homogeneity',\n",
       " 'Entropy',\n",
       " 'x_3rdordermoment',\n",
       " 'Inversevariance',\n",
       " 'Sumaverage',\n",
       " 'Variance',\n",
       " 'Clustertendency',\n",
       " 'MaxProbability',\n",
       " 'Subtlety_1',\n",
       " 'InternalStructure_1',\n",
       " 'Calcification_1',\n",
       " 'Sphericity_1',\n",
       " 'Margin_1',\n",
       " 'Lobulation_1',\n",
       " 'Spiculation_1',\n",
       " 'Texture_1',\n",
       " 'Malignancy_1',\n",
       " 'Subtlety_2',\n",
       " 'InternalStructure_2',\n",
       " 'Calcification_2',\n",
       " 'Sphericity_2',\n",
       " 'Margin_2',\n",
       " 'Lobulation_2',\n",
       " 'Spiculation_2',\n",
       " 'Texture_2',\n",
       " 'Malignancy_2',\n",
       " 'Subtlety_3',\n",
       " 'InternalStructure_3',\n",
       " 'Calcification_3',\n",
       " 'Sphericity_3',\n",
       " 'Margin_3',\n",
       " 'Lobulation_3',\n",
       " 'Spiculation_3',\n",
       " 'Texture_3',\n",
       " 'Malignancy_3',\n",
       " 'Subtlety_4',\n",
       " 'InternalStructure_4',\n",
       " 'Calcification_4',\n",
       " 'Sphericity_4',\n",
       " 'Margin_4',\n",
       " 'Lobulation_4',\n",
       " 'Spiculation_4',\n",
       " 'Texture_4',\n",
       " 'Malignancy_4']"
      ]
     },
     "execution_count": 49,
     "metadata": {},
     "output_type": "execute_result"
    }
   ],
   "source": [
    "list(df.columns)"
   ]
  },
  {
   "cell_type": "code",
   "execution_count": null,
   "metadata": {
    "collapsed": true
   },
   "outputs": [],
   "source": []
  }
 ],
 "metadata": {
  "kernelspec": {
   "display_name": "Python 3",
   "language": "python",
   "name": "python3"
  },
  "language_info": {
   "codemirror_mode": {
    "name": "ipython",
    "version": 3
   },
   "file_extension": ".py",
   "mimetype": "text/x-python",
   "name": "python",
   "nbconvert_exporter": "python",
   "pygments_lexer": "ipython3",
   "version": "3.5.1"
  }
 },
 "nbformat": 4,
 "nbformat_minor": 0
}
